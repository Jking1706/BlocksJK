{
 "cells": [
  {
   "cell_type": "code",
   "execution_count": null,
   "metadata": {},
   "outputs": [],
   "source": [
    "# 1. Escribe un programa en Python para encontrar los elementos duplicados de una lista,\n",
    "# añadirlos a una nueva lista y borrarlos de la lista. Después imprime una lista con tan solo los\n",
    "# elementos únicos. \n",
    "\n",
    "#Creamos una lista con numeros duplicados\n",
    "lista= [1,2,2,3,3,4,5,6,6,6,7,8]\n",
    "duplicados= []#una lista para almacenar los numeros duplicados\n",
    "unicos=[]#una lista para los numeros que no esta duplicados\n",
    "\n",
    "#Creamos un bucle de for\n",
    "for num in lista:\n",
    "    if lista.count(num) >1:#si el numero aparece mas de una vez\n",
    "        if num not in duplicados:#y el numero mo esta en la lista de duplicados\n",
    "         duplicados.append(num)#Se agregará en la lista de duplicados\n",
    "    else: unicos.append(num)#Y si no se agregará a la lista de unicos\n",
    "print(\"LISTA:\",lista)\n",
    "print(\"Lista de duplicados:\", duplicados)\n",
    "print(\"lista unica:\", unicos)\n"
   ]
  },
  {
   "cell_type": "code",
   "execution_count": null,
   "metadata": {},
   "outputs": [],
   "source": [
    "# 2. Escribe un programa en Python para unir dos listas y ordenarlas en orden ascendente. \n",
    "\n",
    "#Creamos 3 listas\n",
    "lista1=list(range(11,20))\n",
    "lista2=list(range(1,11))\n",
    "lista=[]\n",
    "#unimos la lista1 y la lista2 en la variable lista\n",
    "lista=lista1+lista2\n",
    "lista.sort()#usamos sort para ordenar\n",
    "print(lista)"
   ]
  },
  {
   "cell_type": "code",
   "execution_count": 3,
   "metadata": {},
   "outputs": [
    {
     "name": "stdout",
     "output_type": "stream",
     "text": [
      "10\n"
     ]
    }
   ],
   "source": [
    "# 3. Escribe un script que encuentre el segundo número más grande de una lista.\n",
    "\n",
    "lista= list(range(5,12))\n",
    "lista.sort(reverse=True)\n",
    "print(lista[1])"
   ]
  },
  {
   "cell_type": "code",
   "execution_count": 7,
   "metadata": {},
   "outputs": [
    {
     "name": "stdout",
     "output_type": "stream",
     "text": [
      "En la lista hay 6 números mayores al numero introdroducido\n"
     ]
    }
   ],
   "source": [
    "# 4. Crea un script que cuente el número de elementos más grandes que un determinado número\n",
    "# dado por el usuario (supón una lista numérica)\n",
    "\n",
    "#Creamos una lista \n",
    "lista=[12,18,35,95,85,75,26,45]\n",
    "usuario= 19#colocamos el numero que introduce el usuario\n",
    "contador = 0#inicializamos la variable contador\n",
    "#Creamos un bucle de for\n",
    "for num in lista:\n",
    "    if num > usuario:#colocamos una condiciión\n",
    "        contador+=1#Si se cumple, se suma 1 al contador\n",
    "        \n",
    "print(f\"En la lista hay {contador} números mayores al numero introdroducido\")"
   ]
  },
  {
   "cell_type": "code",
   "execution_count": 12,
   "metadata": {},
   "outputs": [
    {
     "name": "stdout",
     "output_type": "stream",
     "text": [
      "15\n"
     ]
    }
   ],
   "source": [
    "# 5. Crea un script dado un número introducido por el usuario o determinado al inicio del\n",
    "# programa, realice la suma de aquellos números que sean divisibles por este.\n",
    "\n",
    "#creo una lista\n",
    "lista= list(range(1,11))\n",
    "usuario= 5#colocamos el valor introducido por el usuario\n",
    "suma= 0#inicializamos suma \n",
    "\n",
    "#Creamos un bucle for \n",
    "for num in lista:\n",
    "    if num % usuario== 0:#una condicion\n",
    "        suma+= num#cumplida la condicion se suma 1 a varable suma\n",
    "print(suma)"
   ]
  },
  {
   "cell_type": "code",
   "execution_count": 18,
   "metadata": {},
   "outputs": [
    {
     "name": "stdout",
     "output_type": "stream",
     "text": [
      "7\n"
     ]
    }
   ],
   "source": [
    "# 6. Escribe un script que pida un número al usuario y dada una lista encuentre el número más alto\n",
    "# que es inferior al número introducido o determinado al inicio del programa. \n",
    "\n",
    "#Creamos dos listas\n",
    "lista = [1,2,3,7,4,6,5,9,10]\n",
    "resultado= []\n",
    "usuario= 8#colocamos el numero introducido por el usuario\n",
    "\n",
    "#Creamos un bucle for\n",
    "for num in lista:\n",
    "    if num < usuario:#Condición\n",
    "        resultado.append(num)#Agregamos a otra lista\n",
    "        resultado.sort(reverse=True)#ordenamos y revertimos\n",
    "print(resultado[0])#mostramos el mayor\n"
   ]
  },
  {
   "cell_type": "code",
   "execution_count": 30,
   "metadata": {},
   "outputs": [
    {
     "name": "stdout",
     "output_type": "stream",
     "text": [
      "los números comunes son: [1, 2, 7, 6, 5, 9]\n"
     ]
    }
   ],
   "source": [
    "# 7. Crea un script que extraiga los elementos comunes entre dos listas. \n",
    "\n",
    "#Creamos las listas\n",
    "lista1= [1,2,3,7,4,6,5,9,10]\n",
    "lista2= [1,2,15,7,6,5,9,12]\n",
    "listas= lista1+ lista2\n",
    "comun=[]\n",
    "#Bucle de for\n",
    "for num in listas:\n",
    "    if listas.count(num)>1:\n",
    "        if num not in comun:\n",
    "         comun.append(num)\n",
    "print(\"los números comunes son:\",comun)\n",
    "       \n"
   ]
  },
  {
   "cell_type": "code",
   "execution_count": 37,
   "metadata": {},
   "outputs": [
    {
     "name": "stdout",
     "output_type": "stream",
     "text": [
      "El número de apariciones de 5 es 1 \n"
     ]
    }
   ],
   "source": [
    "# 8. Crea un script que cuente el número de apariciones de un elemento de una lista en dicha lista\n",
    "# (P.e. en la lista lista=[23, 65, 23] el número de apariciones de 23 es 2)\n",
    "\n",
    "#Creamos la lista\n",
    "lista= [1,2,3,7,4,6,5,7,10]\n",
    "usuario = 5 #numero del usuario\n",
    "contador= 0 #inicializamos\n",
    "\n",
    "#Creamos un bucle for\n",
    "for i in lista:\n",
    "    if i==usuario:#Condición\n",
    "        contador+= 1#sumamos 1\n",
    "        num= i#Guardamos el numero\n",
    "        print(f\"El número de apariciones de {num} es {contador} \")\n",
    "\n"
   ]
  },
  {
   "cell_type": "code",
   "execution_count": 2,
   "metadata": {},
   "outputs": [
    {
     "name": "stdout",
     "output_type": "stream",
     "text": [
      "Lista original: [-1, -3, 2, 5, -6, 7, 6]\n",
      "Lista de num positivos: [2, 5, 7, 6]\n"
     ]
    }
   ],
   "source": [
    "# 9. Escribe un programa que lea una lista de enteros y cree una nueva lista que contenga solo\n",
    "# números positivos de la lista origina\n",
    "\n",
    "#Creamos una lista\n",
    "lista=[-1,-3,2,5,-6,7,6]\n",
    "positivos= []\n",
    "\n",
    "#Creamos un bucle for\n",
    "for i in lista:\n",
    "    if i >=0: \n",
    "        positivos.append(i)\n",
    "print(\"Lista original:\", lista)\n",
    "print(\"Lista de num positivos:\",positivos)\n"
   ]
  },
  {
   "cell_type": "code",
   "execution_count": 4,
   "metadata": {},
   "outputs": [
    {
     "name": "stdout",
     "output_type": "stream",
     "text": [
      "Lista de strings: ['uva', 'pera', 'Manzana']\n",
      "lista del tamaño de los strings: [3, 4, 7]\n"
     ]
    }
   ],
   "source": [
    "# 10. Crea un script que tome una lista de strings y cree una nueva lista que contenga el tamaño de\n",
    "# los strings de la lista original. \n",
    "\n",
    "lista_Strings= [\"uva\", \"pera\", \"Manzana\"]\n",
    "tamaño_Strings= []\n",
    "long= 0\n",
    "#Creamos un bucle for\n",
    "for i in lista_Strings:\n",
    "    long= len(i)\n",
    "    tamaño_Strings.append(long)\n",
    "print(\"Lista de strings:\",lista_Strings)\n",
    "print(\"lista del tamaño de los strings:\",tamaño_Strings)"
   ]
  },
  {
   "cell_type": "code",
   "execution_count": 5,
   "metadata": {},
   "outputs": [
    {
     "name": "stdout",
     "output_type": "stream",
     "text": [
      "lista de strings: ['uva', 'pera', 'Manzana']\n",
      "lista de string en mayúsculas ['UVA', 'PERA', 'MANZANA']\n"
     ]
    }
   ],
   "source": [
    "# 11. Crea un programa que dada una lista de strings, devuelva otra lista con los strings en\n",
    "# mayúscula.\n",
    "\n",
    "#Creamos una lista de strings\n",
    "lista_Strings= [\"uva\", \"pera\", \"Manzana\"]\n",
    "strings_Mayus= []\n",
    "\n",
    "#creamos un bucle de for\n",
    "for i in lista_Strings:\n",
    "    mayus= i.upper()\n",
    "    strings_Mayus.append(mayus)\n",
    "print(\"lista de strings:\",lista_Strings)\n",
    "print(\"lista de string en mayúsculas\",strings_Mayus)"
   ]
  }
 ],
 "metadata": {
  "kernelspec": {
   "display_name": "Python 3",
   "language": "python",
   "name": "python3"
  },
  "language_info": {
   "codemirror_mode": {
    "name": "ipython",
    "version": 3
   },
   "file_extension": ".py",
   "mimetype": "text/x-python",
   "name": "python",
   "nbconvert_exporter": "python",
   "pygments_lexer": "ipython3",
   "version": "3.9.18"
  }
 },
 "nbformat": 4,
 "nbformat_minor": 2
}
